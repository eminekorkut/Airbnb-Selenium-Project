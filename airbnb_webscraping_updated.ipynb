{
 "cells": [
  {
   "cell_type": "markdown",
   "id": "df2a2227",
   "metadata": {},
   "source": [
    "# <img align=\"left\" src=\"tedulogo.png\" width=\"300px\" height=\"300px\"/><br/>\n",
    "\n",
    "<h1 style=\"font-size:30pt\"> ADS531-Term Project AIRBNB Webscraping  </h1><br/>\n",
    "<b> Author: </b> Emine Korkut <br/>\n",
    "<b> Date: </b> 21 January 2024 <br/>\n"
   ]
  },
  {
   "cell_type": "markdown",
   "id": "6a83f10c",
   "metadata": {},
   "source": [
    "# Import Libraries"
   ]
  },
  {
   "cell_type": "code",
   "execution_count": 1,
   "id": "3af6e318",
   "metadata": {
    "scrolled": true
   },
   "outputs": [
    {
     "name": "stdout",
     "output_type": "stream",
     "text": [
      "Requirement already satisfied: selenium in c:\\users\\lenovo\\anaconda3\\lib\\site-packages (4.15.2)\n",
      "Requirement already satisfied: urllib3[socks]<3,>=1.26 in c:\\users\\lenovo\\anaconda3\\lib\\site-packages (from selenium) (1.26.16)\n",
      "Requirement already satisfied: trio~=0.17 in c:\\users\\lenovo\\anaconda3\\lib\\site-packages (from selenium) (0.23.1)\n",
      "Requirement already satisfied: trio-websocket~=0.9 in c:\\users\\lenovo\\anaconda3\\lib\\site-packages (from selenium) (0.11.1)\n",
      "Requirement already satisfied: certifi>=2021.10.8 in c:\\users\\lenovo\\anaconda3\\lib\\site-packages (from selenium) (2023.7.22)\n",
      "Requirement already satisfied: attrs>=20.1.0 in c:\\users\\lenovo\\anaconda3\\lib\\site-packages (from trio~=0.17->selenium) (22.1.0)\n",
      "Requirement already satisfied: sortedcontainers in c:\\users\\lenovo\\anaconda3\\lib\\site-packages (from trio~=0.17->selenium) (2.4.0)\n",
      "Requirement already satisfied: idna in c:\\users\\lenovo\\anaconda3\\lib\\site-packages (from trio~=0.17->selenium) (3.4)\n",
      "Requirement already satisfied: outcome in c:\\users\\lenovo\\anaconda3\\lib\\site-packages (from trio~=0.17->selenium) (1.3.0.post0)\n",
      "Requirement already satisfied: sniffio>=1.3.0 in c:\\users\\lenovo\\anaconda3\\lib\\site-packages (from trio~=0.17->selenium) (1.3.0)\n",
      "Requirement already satisfied: cffi>=1.14 in c:\\users\\lenovo\\anaconda3\\lib\\site-packages (from trio~=0.17->selenium) (1.15.1)\n",
      "Requirement already satisfied: wsproto>=0.14 in c:\\users\\lenovo\\anaconda3\\lib\\site-packages (from trio-websocket~=0.9->selenium) (1.2.0)\n",
      "Requirement already satisfied: PySocks!=1.5.7,<2.0,>=1.5.6 in c:\\users\\lenovo\\anaconda3\\lib\\site-packages (from urllib3[socks]<3,>=1.26->selenium) (1.7.1)\n",
      "Requirement already satisfied: pycparser in c:\\users\\lenovo\\anaconda3\\lib\\site-packages (from cffi>=1.14->trio~=0.17->selenium) (2.21)\n",
      "Requirement already satisfied: h11<1,>=0.9.0 in c:\\users\\lenovo\\anaconda3\\lib\\site-packages (from wsproto>=0.14->trio-websocket~=0.9->selenium) (0.14.0)\n"
     ]
    }
   ],
   "source": [
    "\n",
    "!pip install selenium\n",
    "\n"
   ]
  },
  {
   "cell_type": "code",
   "execution_count": 1,
   "id": "7efe7ab3",
   "metadata": {
    "scrolled": true
   },
   "outputs": [],
   "source": [
    "\n",
    "import pandas as pd\n",
    "import time \n",
    "import csv\n",
    "import sys\n",
    "\n",
    "from selenium import webdriver\n",
    "from selenium.webdriver.common.keys import Keys\n",
    "from selenium.webdriver.common.by import By\n"
   ]
  },
  {
   "cell_type": "markdown",
   "id": "66373896",
   "metadata": {},
   "source": [
    "# Startup the Webdriver\n",
    "+ Open the airbnb window."
   ]
  },
  {
   "cell_type": "code",
   "execution_count": 2,
   "id": "6dde95d4",
   "metadata": {},
   "outputs": [],
   "source": [
    "\n",
    "driver = webdriver.Chrome()\n",
    "url = \"https://www.airbnb.com.tr/\"\n",
    "driver.get(url)\n",
    "# driver.maximize_window()\n"
   ]
  },
  {
   "cell_type": "markdown",
   "id": "c54f4308",
   "metadata": {},
   "source": [
    "+ Close the pop-ups."
   ]
  },
  {
   "cell_type": "code",
   "execution_count": 3,
   "id": "0bf8480f",
   "metadata": {},
   "outputs": [],
   "source": [
    "try:\n",
    "    # Identify and close the pop-up\n",
    "    popup_element = driver.find_element(By.XPATH, \"//button[@aria-label='Kapat']\")\n",
    "    popup_element.click()  # Or use any appropriate action to close the pop-up\n",
    "except:\n",
    "        # No pop-up found, continue with your script\n",
    "    pass\n",
    "        # Click on the element that triggers the pop-up\n",
    "\n"
   ]
  },
  {
   "cell_type": "markdown",
   "id": "5910348f",
   "metadata": {},
   "source": [
    "# Scrap the Data Using Selenium to Search "
   ]
  },
  {
   "cell_type": "markdown",
   "id": "4015f5e2",
   "metadata": {},
   "source": [
    "+ Search for destination, check in and check out date, adult number, children number, infant number and pet number."
   ]
  },
  {
   "cell_type": "code",
   "execution_count": 4,
   "id": "1748279b",
   "metadata": {},
   "outputs": [
    {
     "name": "stdout",
     "output_type": "stream",
     "text": [
      "Search destination: bursa\n"
     ]
    }
   ],
   "source": [
    "destination = input(\"Search destination: \")\n",
    "destination_input = driver.find_element(By.ID, \"bigsearch-query-location-input\")\n",
    "destination_input.send_keys(destination)\n",
    "destination_input.send_keys(Keys.ENTER)"
   ]
  },
  {
   "cell_type": "code",
   "execution_count": 5,
   "id": "15621aa6",
   "metadata": {},
   "outputs": [
    {
     "name": "stdout",
     "output_type": "stream",
     "text": [
      "Add check-in day:  25\n",
      "Add check-in month and year:  nisan 2024\n"
     ]
    }
   ],
   "source": [
    "\n",
    "\n",
    "date_calender = driver.find_element(By.XPATH, \"//*[@id='panel--tabs--0']/div/div[1]/div/div/div/div[2]/div[2]/div/div[2]/div/table\")\n",
    "all_days = date_calender.find_elements(By.TAG_NAME, \"td\")\n",
    "\n",
    "month_calender = driver.find_element(By.XPATH, \"//*[@id='panel--tabs--0']/div/div[1]/div/div/div/div[2]/div[2]/div/div[2]/div/div\")\n",
    "all_months = month_calender.find_elements(By.TAG_NAME, \"h2\")\n",
    "\n",
    "check_in_day = input(\"Add check-in day:  \").capitalize()\n",
    "check_in_month_and_year = input(\"Add check-in month and year:  \").capitalize()\n",
    "\n",
    "next_button = driver.find_element(By.XPATH, \"//*[@id='panel--tabs--0']/div/div[1]/div/div/div/div[2]/div[1]/div[2]/button\")\n",
    "\n",
    "found = False\n",
    "\n",
    "while not found:\n",
    "    for month in all_months:\n",
    "        if check_in_month_and_year == month.text:\n",
    "            for day in all_days:\n",
    "                if check_in_day == day.text:\n",
    "                    day.click()\n",
    "                    found = True\n",
    "                    break\n",
    "        else:\n",
    "           # next_button.click()\n",
    "\n",
    "            date_calender = driver.find_element(By.XPATH, \"//*[@id='panel--tabs--0']/div/div[1]/div/div/div/div[2]/div[2]/div/div[2]/div/table\")\n",
    "            all_days = date_calender.find_elements(By.TAG_NAME, \"td\")\n",
    "\n",
    "            month_calender = driver.find_element(By.XPATH, \"//*[@id='panel--tabs--0']/div/div[1]/div/div/div/div[2]/div[2]/div/div[2]/div/div\")\n",
    "            all_months = month_calender.find_elements(By.TAG_NAME, \"h2\")\n",
    "\n",
    "                   \n"
   ]
  },
  {
   "cell_type": "code",
   "execution_count": 6,
   "id": "e676e56e",
   "metadata": {},
   "outputs": [
    {
     "name": "stdout",
     "output_type": "stream",
     "text": [
      "Add check-out day:  30\n",
      "Add check-out month and year:  nisan 2024\n"
     ]
    }
   ],
   "source": [
    "\n",
    "\n",
    "date_calender = driver.find_element(By.XPATH, \"//*[@id='panel--tabs--0']/div/div[1]/div/div/div/div[2]/div[2]/div/div[2]/div/table\")\n",
    "all_days = date_calender.find_elements(By.TAG_NAME, \"td\")\n",
    "\n",
    "month_calender = driver.find_element(By.XPATH, \"//*[@id='panel--tabs--0']/div/div[1]/div/div/div/div[2]/div[2]/div/div[2]/div/div\")\n",
    "all_months = month_calender.find_elements(By.TAG_NAME, \"h2\")\n",
    "\n",
    "check_out_day = input(\"Add check-out day:  \").capitalize()\n",
    "check_out_month_and_year = input(\"Add check-out month and year:  \").capitalize()\n",
    "\n",
    "next_button = driver.find_element(By.XPATH, \"//*[@id='panel--tabs--0']/div/div[1]/div/div/div/div[2]/div[1]/div[2]/button\")\n",
    "\n",
    "found = False\n",
    "\n",
    "while not found:\n",
    "    for month in all_months:\n",
    "        if check_out_month_and_year == month.text:\n",
    "            for day in all_days:\n",
    "                if check_out_day == day.text:\n",
    "                    day.click()\n",
    "                    found = True\n",
    "                    break\n",
    "        else:\n",
    "            next_button.click()\n",
    "            time.sleep(1)\n",
    "\n",
    "            date_calender = driver.find_element(By.XPATH, \"//*[@id='panel--tabs--0']/div/div[1]/div/div/div/div[2]/div[2]/div/div[2]/div/table\")\n",
    "            all_days = date_calender.find_elements(By.TAG_NAME, \"td\")\n",
    "\n",
    "            month_calender = driver.find_element(By.XPATH, \"//*[@id='panel--tabs--0']/div/div[1]/div/div/div/div[2]/div[2]/div/div[2]/div/div\")\n",
    "            all_months = month_calender.find_elements(By.TAG_NAME, \"h2\")\n"
   ]
  },
  {
   "cell_type": "code",
   "execution_count": 7,
   "id": "88ccf739",
   "metadata": {},
   "outputs": [],
   "source": [
    "guest = driver.find_element(By.XPATH, \"//*[@id='search-tabpanel']/div[1]/div[5]/div[1]/div[1]/div\").click()\n"
   ]
  },
  {
   "cell_type": "code",
   "execution_count": 8,
   "id": "3f96551a",
   "metadata": {},
   "outputs": [
    {
     "name": "stdout",
     "output_type": "stream",
     "text": [
      "Number of people whose ages 13 or above: 1\n"
     ]
    }
   ],
   "source": [
    "adult_number = input(\"Number of people whose ages 13 or above: \")\n",
    "\n",
    "i = 1\n",
    "while i <= int(adult_number):\n",
    "    add_adult = driver.find_element(By.XPATH, \"//*[@id='stepper-adults']/button[2]\") \n",
    "    add_adult.click()\n",
    "    i = i+1"
   ]
  },
  {
   "cell_type": "code",
   "execution_count": 9,
   "id": "0c347707",
   "metadata": {},
   "outputs": [
    {
     "name": "stdout",
     "output_type": "stream",
     "text": [
      "Number of people whose ages between 2 and 12: 1\n"
     ]
    }
   ],
   "source": [
    "children_number = input(\"Number of people whose ages between 2 and 12: \")\n",
    "\n",
    "i=1\n",
    "while i <= int(children_number):\n",
    "    add_children = driver.find_element(By.XPATH, \"//*[@id='stepper-children']/button[2]\") \n",
    "    add_children.click()\n",
    "    i = i+1"
   ]
  },
  {
   "cell_type": "code",
   "execution_count": 10,
   "id": "9700aac8",
   "metadata": {},
   "outputs": [
    {
     "name": "stdout",
     "output_type": "stream",
     "text": [
      "Number of people whose ages under 2: 0\n"
     ]
    }
   ],
   "source": [
    "infant_number = input(\"Number of people whose ages under 2: \")\n",
    "\n",
    "i = 1\n",
    "while i <= int(infant_number):\n",
    "    add_infant = driver.find_element(By.XPATH, \"//*[@id='stepper-infants']/button[2]\")\n",
    "    add_infant.click()\n",
    "    i = i+1"
   ]
  },
  {
   "cell_type": "code",
   "execution_count": 11,
   "id": "60544b1f",
   "metadata": {},
   "outputs": [
    {
     "name": "stdout",
     "output_type": "stream",
     "text": [
      "Number of pet: 0\n"
     ]
    }
   ],
   "source": [
    "pet_number = input(\"Number of pet: \")\n",
    "\n",
    "i = 1\n",
    "while i <= int(pet_number):\n",
    "    add_pet = driver.find_element(By.XPATH, \"//*[@id='stepper-pets']/button[2]\")\n",
    "    add_pet.click()\n",
    "    i = i+1"
   ]
  },
  {
   "cell_type": "code",
   "execution_count": 12,
   "id": "57f7e4fa",
   "metadata": {},
   "outputs": [],
   "source": [
    "search = driver.find_element(By.XPATH, \"//*[@id='search-tabpanel']/div[1]/div[5]/div[1]/div[3]/button/span[1]/span\")\n",
    "search.click()"
   ]
  },
  {
   "cell_type": "markdown",
   "id": "53a1c796",
   "metadata": {},
   "source": [
    "# Extract The Data"
   ]
  },
  {
   "cell_type": "code",
   "execution_count": 20,
   "id": "d750ecb5",
   "metadata": {},
   "outputs": [
    {
     "name": "stdout",
     "output_type": "stream",
     "text": [
      "['Daire - Osmangazi', 'Daire - Osmangazi', 'Daire - Yıldırım', 'Daire - Bursa', 'Daire - Osmangazi', 'Daire - Osmangazi', 'Daire - Osmangazi', 'Daire - Yıldırım', 'Ev - Osmangazi', 'Daire - Osmangazi', 'Daire - Osmangazi', 'Misafir evi - Osmangazi', 'Kamp aracı/Karavan - Osmangazi', 'Misafir evi - Yıldırım', 'Site içi konut - Osmangazi', 'Dağ evi - Yıldırım', 'Osmangazi bölgesinde oda', 'Otel - Yıldırım', 'Ev - Yıldırım', 'Site içi konut - Nilüfer', 'Daire - Osmangazi', 'Daire - Osmangazi', 'Ev - Mudanya', 'Daire - Osmangazi']\n"
     ]
    },
    {
     "data": {
      "text/plain": [
       "24"
      ]
     },
     "execution_count": 20,
     "metadata": {},
     "output_type": "execute_result"
    }
   ],
   "source": [
    "hotel_names = driver.find_elements(By.XPATH, \"//div[@data-testid='listing-card-title']\")\n",
    "hotel_names_list = []\n",
    "for name in hotel_names:\n",
    "    hotel_name = name.text\n",
    "    hotel_names_list.append(hotel_name)\n",
    "    \n",
    "print(hotel_names_list)\n",
    "len(hotel_names_list)"
   ]
  },
  {
   "cell_type": "code",
   "execution_count": 21,
   "id": "4813b3ac",
   "metadata": {},
   "outputs": [
    {
     "name": "stdout",
     "output_type": "stream",
     "text": [
      "['5 üzerinden ortalama 5,0 puan, 14 değerlendirme\\n5,0 (14)', '5 üzerinden ortalama 4,83 puan, 12 değerlendirme\\n4,83 (12)', 'Yeni konaklama yeri\\nYeni', '5 üzerinden ortalama 4,67 puan, 12 değerlendirme\\n4,67 (12)', '5 üzerinden ortalama 4,81 puan, 26 değerlendirme\\n4,81 (26)', '-', '5 üzerinden ortalama 5,0 puan, 30 değerlendirme\\n5,0 (30)', '5 üzerinden ortalama 4,74 puan, 166 değerlendirme\\n4,74 (166)', '5 üzerinden ortalama 4,84 puan, 19 değerlendirme\\n4,84 (19)', '5 üzerinden ortalama 4,93 puan, 14 değerlendirme\\n4,93 (14)', '5 üzerinden ortalama 5,0 puan, 5 değerlendirme\\n5,0 (5)', '5 üzerinden ortalama 4,67 puan, 3 değerlendirme\\n4,67 (3)', '5 üzerinden ortalama 4,33 puan, 6 değerlendirme\\n4,33 (6)', '5 üzerinden ortalama 4,88 puan, 17 değerlendirme\\n4,88 (17)', '5 üzerinden ortalama 4,86 puan, 29 değerlendirme\\n4,86 (29)', '5 üzerinden ortalama 5,0 puan, 22 değerlendirme\\n5,0 (22)', '5 üzerinden ortalama 4,91 puan, 92 değerlendirme\\n4,91 (92)', 'Yeni konaklama yeri\\nYeni', '5 üzerinden ortalama 5,0 puan, 3 değerlendirme\\n5,0 (3)', '5 üzerinden ortalama 4,88 puan, 34 değerlendirme\\n4,88 (34)', '5 üzerinden ortalama 4,73 puan, 30 değerlendirme\\n4,73 (30)', '5 üzerinden ortalama 4,97 puan, 31 değerlendirme\\n4,97 (31)', '5 üzerinden ortalama 4,71 puan, 7 değerlendirme\\n4,71 (7)', 'Yeni konaklama yeri\\nYeni']\n",
      "24\n"
     ]
    }
   ],
   "source": [
    "\n",
    "hotel_rates = driver.find_elements(By.XPATH, \"//div[@class='t1a9j9y7 atm_da_1ko3t4y atm_dm_kb7nvz atm_fg_h9n0ih dir dir-ltr']\")\n",
    "\n",
    "hotel_rates_list = []\n",
    "for rate in hotel_rates:\n",
    "    hotel_rate = rate.text\n",
    "    if hotel_rate == \"\":\n",
    "        hotel_rate = \"-\"\n",
    "    else if hotel_rate ==\"Yeni\"\n",
    "        hotel_rate = \"0\"\n",
    "    hotel_rates_list.append(hotel_rate)\n",
    "\n",
    "print(hotel_rates_list)\n",
    "print(len(hotel_rates_list))\n"
   ]
  },
  {
   "cell_type": "code",
   "execution_count": 22,
   "id": "e344fdda",
   "metadata": {
    "scrolled": true
   },
   "outputs": [
    {
     "name": "stdout",
     "output_type": "stream",
     "text": [
      "['1.266 ₺ \\ngece', '2.177 ₺ \\ngece', '1.272 ₺ \\n1.048 ₺ \\ngece', '1.957 ₺ \\ngece', '2.625 ₺ \\n2.339 ₺ \\ngece', '1.466 ₺ \\n1.286 ₺ \\ngece', '1.296 ₺ \\ngece', '1.360 ₺ \\ngece', '1.853 ₺ \\ngece', '1.754 ₺ \\ngece', '1.999 ₺ \\ngece', '3.728 ₺ \\ngece', '1.305 ₺ \\ngece', '1.470 ₺ \\ngece', '2.631 ₺ \\ngece', '4.399 ₺ \\n3.198 ₺ \\ngece', '1.406 ₺ \\ngece', '1.403 ₺ \\ngece', '1.403 ₺ \\ngece', '3.291 ₺ \\ngece', '2.631 ₺ \\ngece', '2.812 ₺ \\ngece', '3.263 ₺ \\ngece', '2.349 ₺ \\ngece']\n"
     ]
    },
    {
     "data": {
      "text/plain": [
       "24"
      ]
     },
     "execution_count": 22,
     "metadata": {},
     "output_type": "execute_result"
    }
   ],
   "source": [
    "hotel_prices = driver.find_elements(By.XPATH, \"//div[@class='_1jo4hgw']\")\n",
    "hotel_prices_list = []\n",
    "for price in hotel_prices:\n",
    "    hotel_price = price.text\n",
    "    hotel_prices_list.append(hotel_price)\n",
    "    \n",
    "print(hotel_prices_list)\n",
    "len(hotel_prices_list)"
   ]
  },
  {
   "cell_type": "code",
   "execution_count": 23,
   "id": "3029244d",
   "metadata": {},
   "outputs": [
    {
     "name": "stdout",
     "output_type": "stream",
     "text": [
      "['Toplam 6.829 ₺', 'Toplam 11.285 ₺', 'Toplam 5.239 ₺', 'Toplam 9.783 ₺', 'Toplam 11.694 ₺', 'Toplam 6.432 ₺', 'Toplam 5.683 ₺', 'Toplam 5.438 ₺', 'Toplam 7.412 ₺', 'Toplam 7.016 ₺', 'Toplam 8.244 ₺', 'Toplam 14.910 ₺', 'Toplam 6.523 ₺', 'Toplam 7.601 ₺', 'Toplam 13.156 ₺', 'Toplam 16.489 ₺', 'Toplam 7.028 ₺', 'Toplam 7.016 ₺', 'Toplam 7.016 ₺', 'Toplam 16.956 ₺', 'Toplam 13.156 ₺', 'Toplam 14.972 ₺', 'Toplam 16.313 ₺', 'Toplam 12.045 ₺']\n"
     ]
    },
    {
     "data": {
      "text/plain": [
       "24"
      ]
     },
     "execution_count": 23,
     "metadata": {},
     "output_type": "execute_result"
    }
   ],
   "source": [
    "hotel_total_prices = driver.find_elements(By.XPATH, \"//div[@class='_tt122m']\")\n",
    "hotel_total_prices_list = []\n",
    "for total in hotel_total_prices:\n",
    "    total_price = total.text\n",
    "    hotel_total_prices_list.append(total_price)\n",
    "    \n",
    "print(hotel_total_prices_list)\n",
    "len(hotel_total_prices_list)"
   ]
  },
  {
   "cell_type": "code",
   "execution_count": 24,
   "id": "de916d0c",
   "metadata": {
    "scrolled": true
   },
   "outputs": [
    {
     "name": "stdout",
     "output_type": "stream",
     "text": [
      "['Sakin bir semtte huzurlu bir aile evi.', '2 yatak\\n2 yatak']\n",
      "['Yeni yenilenmiş daire,yeni mobilyalar, muhteşem manzara', '5 yatak\\n5 yatak']\n",
      "['Deluxse oda 4 1+1', '1 yatak\\n1 yatak']\n",
      "['Modern Flats with Frontdesk Service', '1 yatak\\n1 yatak']\n",
      "['Şehrin En nezih semti', '4 yatak\\n4 yatak']\n",
      "['Hijyenik çift kişilik daire', '1 yatak\\n1 yatak']\n",
      "['Süper Sessiz, Huzurlu Daire', '1 yatak\\n1 yatak']\n",
      "['BURSA MERKEZ 3. KAT(1+1 EV) #403', '2 yatak\\n2 yatak']\n",
      "['Müstakil Bahçeli 2. kat Ev', '4 yatak\\n4 yatak']\n",
      "[\"Çekirge Meydanı'nda şehir manzaralı güzel bir daire\", '']\n",
      "['Manzaralı Merkezi 1+1 Daire', '1 queen yatak\\n1 queen yatak']\n",
      "['Panoramik rüya ev', '']\n",
      "['Muhteşem Manzarada Karavan Keyfi', '3 yatak\\n3 yatak']\n",
      "['Kasabanın ortasında. Sadece oda.', '3 yatak\\n3 yatak']\n",
      "['\"Hayatınızın en iyi anları için!\"', 'Jetonlu oyun makinesi\\nJetonlu oyun makinesi']\n",
      "['Uludağ ve Bursa manzaralı Lüks Dağ Evi', 'Oyun odası\\nOyun odası']\n",
      "['Bahadır ile konaklayın\\nBahadır ile konaklayın\\nKickboks eğitmeni\\n,\\n · \\nKickboks eğitmeni', 'Best Home.']\n",
      "['Aile kıyafeti 105.', '2 yatak\\n2 yatak']\n",
      "['Tarihi cumalıkızık müstakil ev', '']\n",
      "['Havuzlu güvenlikli sitede 2+1 Resıdance Daire', '3 yatak\\n3 yatak']\n",
      "['\"Olmak istenilen yer!\"- klimalı', '8 yatak\\n8 yatak']\n",
      "['Brand New Cozy Apartment Historic City Centre No.2', '6 yatak\\n6 yatak']\n",
      "['Mükemmel Deniz manzarası Önü plaj', '4 yatak\\n4 yatak']\n",
      "['2/Fly Barmak Street, Şehir Merkezi', '']\n"
     ]
    },
    {
     "data": {
      "text/plain": [
       "24"
      ]
     },
     "execution_count": 24,
     "metadata": {},
     "output_type": "execute_result"
    }
   ],
   "source": [
    "hotel_room_attributes = driver.find_elements(By.XPATH, \"//div[@data-testid='listing-card-subtitle']\")\n",
    "hotel_room_attributes_list = []\n",
    "for attributes in hotel_room_attributes:\n",
    "    room_attributes = attributes.text\n",
    "    hotel_room_attributes_list.append(room_attributes)\n",
    "\n",
    "attributes_list = [hotel_room_attributes_list[i:i + 2] for i in range(0, len(hotel_room_attributes_list), 2)]\n",
    "\n",
    "for attrlist in attributes_list:\n",
    "    print(attrlist)\n",
    "    \n",
    "\n",
    "len(attributes_list)"
   ]
  },
  {
   "cell_type": "markdown",
   "id": "de8829a7",
   "metadata": {},
   "source": [
    "# Unclean Data"
   ]
  },
  {
   "cell_type": "code",
   "execution_count": 25,
   "id": "e89cafc1",
   "metadata": {
    "scrolled": true
   },
   "outputs": [
    {
     "data": {
      "text/html": [
       "<div>\n",
       "<style scoped>\n",
       "    .dataframe tbody tr th:only-of-type {\n",
       "        vertical-align: middle;\n",
       "    }\n",
       "\n",
       "    .dataframe tbody tr th {\n",
       "        vertical-align: top;\n",
       "    }\n",
       "\n",
       "    .dataframe thead th {\n",
       "        text-align: right;\n",
       "    }\n",
       "</style>\n",
       "<table border=\"1\" class=\"dataframe\">\n",
       "  <thead>\n",
       "    <tr style=\"text-align: right;\">\n",
       "      <th></th>\n",
       "      <th>Hotel Names</th>\n",
       "      <th>Hotel Rates</th>\n",
       "      <th>Hotel Prices</th>\n",
       "      <th>Total Price</th>\n",
       "    </tr>\n",
       "  </thead>\n",
       "  <tbody>\n",
       "    <tr>\n",
       "      <th>0</th>\n",
       "      <td>Daire - Osmangazi</td>\n",
       "      <td>5 üzerinden ortalama 5,0 puan, 14 değerlendirm...</td>\n",
       "      <td>1.266 ₺ \\ngece</td>\n",
       "      <td>Toplam 6.829 ₺</td>\n",
       "    </tr>\n",
       "    <tr>\n",
       "      <th>1</th>\n",
       "      <td>Daire - Osmangazi</td>\n",
       "      <td>5 üzerinden ortalama 4,83 puan, 12 değerlendir...</td>\n",
       "      <td>2.177 ₺ \\ngece</td>\n",
       "      <td>Toplam 11.285 ₺</td>\n",
       "    </tr>\n",
       "    <tr>\n",
       "      <th>2</th>\n",
       "      <td>Daire - Yıldırım</td>\n",
       "      <td>Yeni konaklama yeri\\nYeni</td>\n",
       "      <td>1.272 ₺ \\n1.048 ₺ \\ngece</td>\n",
       "      <td>Toplam 5.239 ₺</td>\n",
       "    </tr>\n",
       "    <tr>\n",
       "      <th>3</th>\n",
       "      <td>Daire - Bursa</td>\n",
       "      <td>5 üzerinden ortalama 4,67 puan, 12 değerlendir...</td>\n",
       "      <td>1.957 ₺ \\ngece</td>\n",
       "      <td>Toplam 9.783 ₺</td>\n",
       "    </tr>\n",
       "    <tr>\n",
       "      <th>4</th>\n",
       "      <td>Daire - Osmangazi</td>\n",
       "      <td>5 üzerinden ortalama 4,81 puan, 26 değerlendir...</td>\n",
       "      <td>2.625 ₺ \\n2.339 ₺ \\ngece</td>\n",
       "      <td>Toplam 11.694 ₺</td>\n",
       "    </tr>\n",
       "    <tr>\n",
       "      <th>5</th>\n",
       "      <td>Daire - Osmangazi</td>\n",
       "      <td>-</td>\n",
       "      <td>1.466 ₺ \\n1.286 ₺ \\ngece</td>\n",
       "      <td>Toplam 6.432 ₺</td>\n",
       "    </tr>\n",
       "    <tr>\n",
       "      <th>6</th>\n",
       "      <td>Daire - Osmangazi</td>\n",
       "      <td>5 üzerinden ortalama 5,0 puan, 30 değerlendirm...</td>\n",
       "      <td>1.296 ₺ \\ngece</td>\n",
       "      <td>Toplam 5.683 ₺</td>\n",
       "    </tr>\n",
       "    <tr>\n",
       "      <th>7</th>\n",
       "      <td>Daire - Yıldırım</td>\n",
       "      <td>5 üzerinden ortalama 4,74 puan, 166 değerlendi...</td>\n",
       "      <td>1.360 ₺ \\ngece</td>\n",
       "      <td>Toplam 5.438 ₺</td>\n",
       "    </tr>\n",
       "    <tr>\n",
       "      <th>8</th>\n",
       "      <td>Ev - Osmangazi</td>\n",
       "      <td>5 üzerinden ortalama 4,84 puan, 19 değerlendir...</td>\n",
       "      <td>1.853 ₺ \\ngece</td>\n",
       "      <td>Toplam 7.412 ₺</td>\n",
       "    </tr>\n",
       "    <tr>\n",
       "      <th>9</th>\n",
       "      <td>Daire - Osmangazi</td>\n",
       "      <td>5 üzerinden ortalama 4,93 puan, 14 değerlendir...</td>\n",
       "      <td>1.754 ₺ \\ngece</td>\n",
       "      <td>Toplam 7.016 ₺</td>\n",
       "    </tr>\n",
       "    <tr>\n",
       "      <th>10</th>\n",
       "      <td>Daire - Osmangazi</td>\n",
       "      <td>5 üzerinden ortalama 5,0 puan, 5 değerlendirme...</td>\n",
       "      <td>1.999 ₺ \\ngece</td>\n",
       "      <td>Toplam 8.244 ₺</td>\n",
       "    </tr>\n",
       "    <tr>\n",
       "      <th>11</th>\n",
       "      <td>Misafir evi - Osmangazi</td>\n",
       "      <td>5 üzerinden ortalama 4,67 puan, 3 değerlendirm...</td>\n",
       "      <td>3.728 ₺ \\ngece</td>\n",
       "      <td>Toplam 14.910 ₺</td>\n",
       "    </tr>\n",
       "    <tr>\n",
       "      <th>12</th>\n",
       "      <td>Kamp aracı/Karavan - Osmangazi</td>\n",
       "      <td>5 üzerinden ortalama 4,33 puan, 6 değerlendirm...</td>\n",
       "      <td>1.305 ₺ \\ngece</td>\n",
       "      <td>Toplam 6.523 ₺</td>\n",
       "    </tr>\n",
       "    <tr>\n",
       "      <th>13</th>\n",
       "      <td>Misafir evi - Yıldırım</td>\n",
       "      <td>5 üzerinden ortalama 4,88 puan, 17 değerlendir...</td>\n",
       "      <td>1.470 ₺ \\ngece</td>\n",
       "      <td>Toplam 7.601 ₺</td>\n",
       "    </tr>\n",
       "    <tr>\n",
       "      <th>14</th>\n",
       "      <td>Site içi konut - Osmangazi</td>\n",
       "      <td>5 üzerinden ortalama 4,86 puan, 29 değerlendir...</td>\n",
       "      <td>2.631 ₺ \\ngece</td>\n",
       "      <td>Toplam 13.156 ₺</td>\n",
       "    </tr>\n",
       "    <tr>\n",
       "      <th>15</th>\n",
       "      <td>Dağ evi - Yıldırım</td>\n",
       "      <td>5 üzerinden ortalama 5,0 puan, 22 değerlendirm...</td>\n",
       "      <td>4.399 ₺ \\n3.198 ₺ \\ngece</td>\n",
       "      <td>Toplam 16.489 ₺</td>\n",
       "    </tr>\n",
       "    <tr>\n",
       "      <th>16</th>\n",
       "      <td>Osmangazi bölgesinde oda</td>\n",
       "      <td>5 üzerinden ortalama 4,91 puan, 92 değerlendir...</td>\n",
       "      <td>1.406 ₺ \\ngece</td>\n",
       "      <td>Toplam 7.028 ₺</td>\n",
       "    </tr>\n",
       "    <tr>\n",
       "      <th>17</th>\n",
       "      <td>Otel - Yıldırım</td>\n",
       "      <td>Yeni konaklama yeri\\nYeni</td>\n",
       "      <td>1.403 ₺ \\ngece</td>\n",
       "      <td>Toplam 7.016 ₺</td>\n",
       "    </tr>\n",
       "    <tr>\n",
       "      <th>18</th>\n",
       "      <td>Ev - Yıldırım</td>\n",
       "      <td>5 üzerinden ortalama 5,0 puan, 3 değerlendirme...</td>\n",
       "      <td>1.403 ₺ \\ngece</td>\n",
       "      <td>Toplam 7.016 ₺</td>\n",
       "    </tr>\n",
       "    <tr>\n",
       "      <th>19</th>\n",
       "      <td>Site içi konut - Nilüfer</td>\n",
       "      <td>5 üzerinden ortalama 4,88 puan, 34 değerlendir...</td>\n",
       "      <td>3.291 ₺ \\ngece</td>\n",
       "      <td>Toplam 16.956 ₺</td>\n",
       "    </tr>\n",
       "    <tr>\n",
       "      <th>20</th>\n",
       "      <td>Daire - Osmangazi</td>\n",
       "      <td>5 üzerinden ortalama 4,73 puan, 30 değerlendir...</td>\n",
       "      <td>2.631 ₺ \\ngece</td>\n",
       "      <td>Toplam 13.156 ₺</td>\n",
       "    </tr>\n",
       "    <tr>\n",
       "      <th>21</th>\n",
       "      <td>Daire - Osmangazi</td>\n",
       "      <td>5 üzerinden ortalama 4,97 puan, 31 değerlendir...</td>\n",
       "      <td>2.812 ₺ \\ngece</td>\n",
       "      <td>Toplam 14.972 ₺</td>\n",
       "    </tr>\n",
       "    <tr>\n",
       "      <th>22</th>\n",
       "      <td>Ev - Mudanya</td>\n",
       "      <td>5 üzerinden ortalama 4,71 puan, 7 değerlendirm...</td>\n",
       "      <td>3.263 ₺ \\ngece</td>\n",
       "      <td>Toplam 16.313 ₺</td>\n",
       "    </tr>\n",
       "    <tr>\n",
       "      <th>23</th>\n",
       "      <td>Daire - Osmangazi</td>\n",
       "      <td>Yeni konaklama yeri\\nYeni</td>\n",
       "      <td>2.349 ₺ \\ngece</td>\n",
       "      <td>Toplam 12.045 ₺</td>\n",
       "    </tr>\n",
       "  </tbody>\n",
       "</table>\n",
       "</div>"
      ],
      "text/plain": [
       "                       Hotel Names  \\\n",
       "0                Daire - Osmangazi   \n",
       "1                Daire - Osmangazi   \n",
       "2                 Daire - Yıldırım   \n",
       "3                    Daire - Bursa   \n",
       "4                Daire - Osmangazi   \n",
       "5                Daire - Osmangazi   \n",
       "6                Daire - Osmangazi   \n",
       "7                 Daire - Yıldırım   \n",
       "8                   Ev - Osmangazi   \n",
       "9                Daire - Osmangazi   \n",
       "10               Daire - Osmangazi   \n",
       "11         Misafir evi - Osmangazi   \n",
       "12  Kamp aracı/Karavan - Osmangazi   \n",
       "13          Misafir evi - Yıldırım   \n",
       "14      Site içi konut - Osmangazi   \n",
       "15              Dağ evi - Yıldırım   \n",
       "16        Osmangazi bölgesinde oda   \n",
       "17                 Otel - Yıldırım   \n",
       "18                   Ev - Yıldırım   \n",
       "19        Site içi konut - Nilüfer   \n",
       "20               Daire - Osmangazi   \n",
       "21               Daire - Osmangazi   \n",
       "22                    Ev - Mudanya   \n",
       "23               Daire - Osmangazi   \n",
       "\n",
       "                                          Hotel Rates  \\\n",
       "0   5 üzerinden ortalama 5,0 puan, 14 değerlendirm...   \n",
       "1   5 üzerinden ortalama 4,83 puan, 12 değerlendir...   \n",
       "2                           Yeni konaklama yeri\\nYeni   \n",
       "3   5 üzerinden ortalama 4,67 puan, 12 değerlendir...   \n",
       "4   5 üzerinden ortalama 4,81 puan, 26 değerlendir...   \n",
       "5                                                   -   \n",
       "6   5 üzerinden ortalama 5,0 puan, 30 değerlendirm...   \n",
       "7   5 üzerinden ortalama 4,74 puan, 166 değerlendi...   \n",
       "8   5 üzerinden ortalama 4,84 puan, 19 değerlendir...   \n",
       "9   5 üzerinden ortalama 4,93 puan, 14 değerlendir...   \n",
       "10  5 üzerinden ortalama 5,0 puan, 5 değerlendirme...   \n",
       "11  5 üzerinden ortalama 4,67 puan, 3 değerlendirm...   \n",
       "12  5 üzerinden ortalama 4,33 puan, 6 değerlendirm...   \n",
       "13  5 üzerinden ortalama 4,88 puan, 17 değerlendir...   \n",
       "14  5 üzerinden ortalama 4,86 puan, 29 değerlendir...   \n",
       "15  5 üzerinden ortalama 5,0 puan, 22 değerlendirm...   \n",
       "16  5 üzerinden ortalama 4,91 puan, 92 değerlendir...   \n",
       "17                          Yeni konaklama yeri\\nYeni   \n",
       "18  5 üzerinden ortalama 5,0 puan, 3 değerlendirme...   \n",
       "19  5 üzerinden ortalama 4,88 puan, 34 değerlendir...   \n",
       "20  5 üzerinden ortalama 4,73 puan, 30 değerlendir...   \n",
       "21  5 üzerinden ortalama 4,97 puan, 31 değerlendir...   \n",
       "22  5 üzerinden ortalama 4,71 puan, 7 değerlendirm...   \n",
       "23                          Yeni konaklama yeri\\nYeni   \n",
       "\n",
       "                Hotel Prices      Total Price  \n",
       "0             1.266 ₺ \\ngece   Toplam 6.829 ₺  \n",
       "1             2.177 ₺ \\ngece  Toplam 11.285 ₺  \n",
       "2   1.272 ₺ \\n1.048 ₺ \\ngece   Toplam 5.239 ₺  \n",
       "3             1.957 ₺ \\ngece   Toplam 9.783 ₺  \n",
       "4   2.625 ₺ \\n2.339 ₺ \\ngece  Toplam 11.694 ₺  \n",
       "5   1.466 ₺ \\n1.286 ₺ \\ngece   Toplam 6.432 ₺  \n",
       "6             1.296 ₺ \\ngece   Toplam 5.683 ₺  \n",
       "7             1.360 ₺ \\ngece   Toplam 5.438 ₺  \n",
       "8             1.853 ₺ \\ngece   Toplam 7.412 ₺  \n",
       "9             1.754 ₺ \\ngece   Toplam 7.016 ₺  \n",
       "10            1.999 ₺ \\ngece   Toplam 8.244 ₺  \n",
       "11            3.728 ₺ \\ngece  Toplam 14.910 ₺  \n",
       "12            1.305 ₺ \\ngece   Toplam 6.523 ₺  \n",
       "13            1.470 ₺ \\ngece   Toplam 7.601 ₺  \n",
       "14            2.631 ₺ \\ngece  Toplam 13.156 ₺  \n",
       "15  4.399 ₺ \\n3.198 ₺ \\ngece  Toplam 16.489 ₺  \n",
       "16            1.406 ₺ \\ngece   Toplam 7.028 ₺  \n",
       "17            1.403 ₺ \\ngece   Toplam 7.016 ₺  \n",
       "18            1.403 ₺ \\ngece   Toplam 7.016 ₺  \n",
       "19            3.291 ₺ \\ngece  Toplam 16.956 ₺  \n",
       "20            2.631 ₺ \\ngece  Toplam 13.156 ₺  \n",
       "21            2.812 ₺ \\ngece  Toplam 14.972 ₺  \n",
       "22            3.263 ₺ \\ngece  Toplam 16.313 ₺  \n",
       "23            2.349 ₺ \\ngece  Toplam 12.045 ₺  "
      ]
     },
     "execution_count": 25,
     "metadata": {},
     "output_type": "execute_result"
    }
   ],
   "source": [
    "df=pd.DataFrame({\"Hotel Names\":hotel_names_list,\"Hotel Rates\":hotel_rates_list, \"Hotel Prices\":hotel_prices_list, \"Total Price\":hotel_total_prices_list})\n",
    "df"
   ]
  },
  {
   "cell_type": "markdown",
   "id": "b2285d08",
   "metadata": {},
   "source": [
    "+ Dataframe to csv"
   ]
  },
  {
   "cell_type": "code",
   "execution_count": 27,
   "id": "90bd17a2",
   "metadata": {},
   "outputs": [
    {
     "ename": "KeyError",
     "evalue": "'Hotel Prices'",
     "output_type": "error",
     "traceback": [
      "\u001b[1;31m---------------------------------------------------------------------------\u001b[0m",
      "\u001b[1;31mKeyError\u001b[0m                                  Traceback (most recent call last)",
      "File \u001b[1;32m~\\anaconda3\\Lib\\site-packages\\pandas\\core\\indexes\\base.py:3653\u001b[0m, in \u001b[0;36mIndex.get_loc\u001b[1;34m(self, key)\u001b[0m\n\u001b[0;32m   3652\u001b[0m \u001b[38;5;28;01mtry\u001b[39;00m:\n\u001b[1;32m-> 3653\u001b[0m     \u001b[38;5;28;01mreturn\u001b[39;00m \u001b[38;5;28mself\u001b[39m\u001b[38;5;241m.\u001b[39m_engine\u001b[38;5;241m.\u001b[39mget_loc(casted_key)\n\u001b[0;32m   3654\u001b[0m \u001b[38;5;28;01mexcept\u001b[39;00m \u001b[38;5;167;01mKeyError\u001b[39;00m \u001b[38;5;28;01mas\u001b[39;00m err:\n",
      "File \u001b[1;32m~\\anaconda3\\Lib\\site-packages\\pandas\\_libs\\index.pyx:147\u001b[0m, in \u001b[0;36mpandas._libs.index.IndexEngine.get_loc\u001b[1;34m()\u001b[0m\n",
      "File \u001b[1;32m~\\anaconda3\\Lib\\site-packages\\pandas\\_libs\\index.pyx:176\u001b[0m, in \u001b[0;36mpandas._libs.index.IndexEngine.get_loc\u001b[1;34m()\u001b[0m\n",
      "File \u001b[1;32mpandas\\_libs\\hashtable_class_helper.pxi:7080\u001b[0m, in \u001b[0;36mpandas._libs.hashtable.PyObjectHashTable.get_item\u001b[1;34m()\u001b[0m\n",
      "File \u001b[1;32mpandas\\_libs\\hashtable_class_helper.pxi:7088\u001b[0m, in \u001b[0;36mpandas._libs.hashtable.PyObjectHashTable.get_item\u001b[1;34m()\u001b[0m\n",
      "\u001b[1;31mKeyError\u001b[0m: 'Hotel Prices'",
      "\nThe above exception was the direct cause of the following exception:\n",
      "\u001b[1;31mKeyError\u001b[0m                                  Traceback (most recent call last)",
      "Cell \u001b[1;32mIn[27], line 1\u001b[0m\n\u001b[1;32m----> 1\u001b[0m prc \u001b[38;5;241m=\u001b[39m df[\u001b[38;5;124m'\u001b[39m\u001b[38;5;124mHotel Prices\u001b[39m\u001b[38;5;124m'\u001b[39m]\u001b[38;5;241m.\u001b[39mstr\u001b[38;5;241m.\u001b[39msplit(\u001b[38;5;124m'\u001b[39m\u001b[38;5;130;01m\\n\u001b[39;00m\u001b[38;5;124m'\u001b[39m)\n\u001b[0;32m      3\u001b[0m org_prc \u001b[38;5;241m=\u001b[39m []\n\u001b[0;32m      4\u001b[0m discounts \u001b[38;5;241m=\u001b[39m []\n",
      "File \u001b[1;32m~\\anaconda3\\Lib\\site-packages\\pandas\\core\\frame.py:3761\u001b[0m, in \u001b[0;36mDataFrame.__getitem__\u001b[1;34m(self, key)\u001b[0m\n\u001b[0;32m   3759\u001b[0m \u001b[38;5;28;01mif\u001b[39;00m \u001b[38;5;28mself\u001b[39m\u001b[38;5;241m.\u001b[39mcolumns\u001b[38;5;241m.\u001b[39mnlevels \u001b[38;5;241m>\u001b[39m \u001b[38;5;241m1\u001b[39m:\n\u001b[0;32m   3760\u001b[0m     \u001b[38;5;28;01mreturn\u001b[39;00m \u001b[38;5;28mself\u001b[39m\u001b[38;5;241m.\u001b[39m_getitem_multilevel(key)\n\u001b[1;32m-> 3761\u001b[0m indexer \u001b[38;5;241m=\u001b[39m \u001b[38;5;28mself\u001b[39m\u001b[38;5;241m.\u001b[39mcolumns\u001b[38;5;241m.\u001b[39mget_loc(key)\n\u001b[0;32m   3762\u001b[0m \u001b[38;5;28;01mif\u001b[39;00m is_integer(indexer):\n\u001b[0;32m   3763\u001b[0m     indexer \u001b[38;5;241m=\u001b[39m [indexer]\n",
      "File \u001b[1;32m~\\anaconda3\\Lib\\site-packages\\pandas\\core\\indexes\\base.py:3655\u001b[0m, in \u001b[0;36mIndex.get_loc\u001b[1;34m(self, key)\u001b[0m\n\u001b[0;32m   3653\u001b[0m     \u001b[38;5;28;01mreturn\u001b[39;00m \u001b[38;5;28mself\u001b[39m\u001b[38;5;241m.\u001b[39m_engine\u001b[38;5;241m.\u001b[39mget_loc(casted_key)\n\u001b[0;32m   3654\u001b[0m \u001b[38;5;28;01mexcept\u001b[39;00m \u001b[38;5;167;01mKeyError\u001b[39;00m \u001b[38;5;28;01mas\u001b[39;00m err:\n\u001b[1;32m-> 3655\u001b[0m     \u001b[38;5;28;01mraise\u001b[39;00m \u001b[38;5;167;01mKeyError\u001b[39;00m(key) \u001b[38;5;28;01mfrom\u001b[39;00m \u001b[38;5;21;01merr\u001b[39;00m\n\u001b[0;32m   3656\u001b[0m \u001b[38;5;28;01mexcept\u001b[39;00m \u001b[38;5;167;01mTypeError\u001b[39;00m:\n\u001b[0;32m   3657\u001b[0m     \u001b[38;5;66;03m# If we have a listlike key, _check_indexing_error will raise\u001b[39;00m\n\u001b[0;32m   3658\u001b[0m     \u001b[38;5;66;03m#  InvalidIndexError. Otherwise we fall through and re-raise\u001b[39;00m\n\u001b[0;32m   3659\u001b[0m     \u001b[38;5;66;03m#  the TypeError.\u001b[39;00m\n\u001b[0;32m   3660\u001b[0m     \u001b[38;5;28mself\u001b[39m\u001b[38;5;241m.\u001b[39m_check_indexing_error(key)\n",
      "\u001b[1;31mKeyError\u001b[0m: 'Hotel Prices'"
     ]
    }
   ],
   "source": [
    "prc = df['Hotel Prices'].str.split('\\n')\n",
    "\n",
    "org_prc = []\n",
    "discounts = []\n",
    "per_nights = []\n",
    "\n",
    "for x in prc:\n",
    "    if len(x)==3:\n",
    "        org_prc.append(x[0])\n",
    "        discounts.append(x[1])\n",
    "\n",
    "    elif len(x)==2:\n",
    "        org_prc.append(x[0])\n",
    "        discounts.append(\"No discount!\")\n",
    "        \n",
    "df[\"Original Price\"] = org_prc\n",
    "df[\"Discount Amount\"] = discounts\n",
    "df.drop([\"Hotel Prices\"], axis=1, inplace=True)\n",
    "\n",
    "ttl = df['Total Price'].apply(lambda x: x[0:15])\n",
    "df[\"Total Price\"]= ttl\n",
    "\n"
   ]
  },
  {
   "cell_type": "code",
   "execution_count": 33,
   "id": "404a71ad",
   "metadata": {
    "scrolled": false
   },
   "outputs": [
    {
     "ename": "ValueError",
     "evalue": "Length of values (0) does not match length of index (24)",
     "output_type": "error",
     "traceback": [
      "\u001b[1;31m---------------------------------------------------------------------------\u001b[0m",
      "\u001b[1;31mValueError\u001b[0m                                Traceback (most recent call last)",
      "Cell \u001b[1;32mIn[33], line 7\u001b[0m\n\u001b[0;32m      2\u001b[0m hotel_rate \u001b[38;5;241m=\u001b[39m []\n\u001b[0;32m      3\u001b[0m \u001b[38;5;66;03m# for rate in rates:\u001b[39;00m\n\u001b[0;32m      4\u001b[0m \u001b[38;5;66;03m#     if len(rate)==2:\u001b[39;00m\n\u001b[0;32m      5\u001b[0m \u001b[38;5;66;03m#         hotel_rate.append(rate[1])\u001b[39;00m\n\u001b[1;32m----> 7\u001b[0m df[\u001b[38;5;124m\"\u001b[39m\u001b[38;5;124mHotel Rates\u001b[39m\u001b[38;5;124m\"\u001b[39m] \u001b[38;5;241m=\u001b[39m hotel_rate\n\u001b[0;32m      9\u001b[0m \u001b[38;5;66;03m# df = pd.DataFrame({\"Hotel Names\": hotel_names_list,\u001b[39;00m\n\u001b[0;32m     10\u001b[0m \u001b[38;5;66;03m#                        \"Hotel Rates\":hotel_rate, \u001b[39;00m\n\u001b[0;32m     11\u001b[0m \u001b[38;5;66;03m#                        \"Total Price\":ttl, \u001b[39;00m\n\u001b[0;32m     12\u001b[0m \u001b[38;5;66;03m#                        \"Original Price\":org_prc,\u001b[39;00m\n\u001b[0;32m     13\u001b[0m \u001b[38;5;66;03m#                         \"Discount Amount\": discounts})\u001b[39;00m\n\u001b[0;32m     14\u001b[0m rates\n",
      "File \u001b[1;32m~\\anaconda3\\Lib\\site-packages\\pandas\\core\\frame.py:3950\u001b[0m, in \u001b[0;36mDataFrame.__setitem__\u001b[1;34m(self, key, value)\u001b[0m\n\u001b[0;32m   3947\u001b[0m     \u001b[38;5;28mself\u001b[39m\u001b[38;5;241m.\u001b[39m_setitem_array([key], value)\n\u001b[0;32m   3948\u001b[0m \u001b[38;5;28;01melse\u001b[39;00m:\n\u001b[0;32m   3949\u001b[0m     \u001b[38;5;66;03m# set column\u001b[39;00m\n\u001b[1;32m-> 3950\u001b[0m     \u001b[38;5;28mself\u001b[39m\u001b[38;5;241m.\u001b[39m_set_item(key, value)\n",
      "File \u001b[1;32m~\\anaconda3\\Lib\\site-packages\\pandas\\core\\frame.py:4143\u001b[0m, in \u001b[0;36mDataFrame._set_item\u001b[1;34m(self, key, value)\u001b[0m\n\u001b[0;32m   4133\u001b[0m \u001b[38;5;28;01mdef\u001b[39;00m \u001b[38;5;21m_set_item\u001b[39m(\u001b[38;5;28mself\u001b[39m, key, value) \u001b[38;5;241m-\u001b[39m\u001b[38;5;241m>\u001b[39m \u001b[38;5;28;01mNone\u001b[39;00m:\n\u001b[0;32m   4134\u001b[0m \u001b[38;5;250m    \u001b[39m\u001b[38;5;124;03m\"\"\"\u001b[39;00m\n\u001b[0;32m   4135\u001b[0m \u001b[38;5;124;03m    Add series to DataFrame in specified column.\u001b[39;00m\n\u001b[0;32m   4136\u001b[0m \n\u001b[1;32m   (...)\u001b[0m\n\u001b[0;32m   4141\u001b[0m \u001b[38;5;124;03m    ensure homogeneity.\u001b[39;00m\n\u001b[0;32m   4142\u001b[0m \u001b[38;5;124;03m    \"\"\"\u001b[39;00m\n\u001b[1;32m-> 4143\u001b[0m     value \u001b[38;5;241m=\u001b[39m \u001b[38;5;28mself\u001b[39m\u001b[38;5;241m.\u001b[39m_sanitize_column(value)\n\u001b[0;32m   4145\u001b[0m     \u001b[38;5;28;01mif\u001b[39;00m (\n\u001b[0;32m   4146\u001b[0m         key \u001b[38;5;129;01min\u001b[39;00m \u001b[38;5;28mself\u001b[39m\u001b[38;5;241m.\u001b[39mcolumns\n\u001b[0;32m   4147\u001b[0m         \u001b[38;5;129;01mand\u001b[39;00m value\u001b[38;5;241m.\u001b[39mndim \u001b[38;5;241m==\u001b[39m \u001b[38;5;241m1\u001b[39m\n\u001b[0;32m   4148\u001b[0m         \u001b[38;5;129;01mand\u001b[39;00m \u001b[38;5;129;01mnot\u001b[39;00m is_extension_array_dtype(value)\n\u001b[0;32m   4149\u001b[0m     ):\n\u001b[0;32m   4150\u001b[0m         \u001b[38;5;66;03m# broadcast across multiple columns if necessary\u001b[39;00m\n\u001b[0;32m   4151\u001b[0m         \u001b[38;5;28;01mif\u001b[39;00m \u001b[38;5;129;01mnot\u001b[39;00m \u001b[38;5;28mself\u001b[39m\u001b[38;5;241m.\u001b[39mcolumns\u001b[38;5;241m.\u001b[39mis_unique \u001b[38;5;129;01mor\u001b[39;00m \u001b[38;5;28misinstance\u001b[39m(\u001b[38;5;28mself\u001b[39m\u001b[38;5;241m.\u001b[39mcolumns, MultiIndex):\n",
      "File \u001b[1;32m~\\anaconda3\\Lib\\site-packages\\pandas\\core\\frame.py:4870\u001b[0m, in \u001b[0;36mDataFrame._sanitize_column\u001b[1;34m(self, value)\u001b[0m\n\u001b[0;32m   4867\u001b[0m     \u001b[38;5;28;01mreturn\u001b[39;00m _reindex_for_setitem(Series(value), \u001b[38;5;28mself\u001b[39m\u001b[38;5;241m.\u001b[39mindex)\n\u001b[0;32m   4869\u001b[0m \u001b[38;5;28;01mif\u001b[39;00m is_list_like(value):\n\u001b[1;32m-> 4870\u001b[0m     com\u001b[38;5;241m.\u001b[39mrequire_length_match(value, \u001b[38;5;28mself\u001b[39m\u001b[38;5;241m.\u001b[39mindex)\n\u001b[0;32m   4871\u001b[0m \u001b[38;5;28;01mreturn\u001b[39;00m sanitize_array(value, \u001b[38;5;28mself\u001b[39m\u001b[38;5;241m.\u001b[39mindex, copy\u001b[38;5;241m=\u001b[39m\u001b[38;5;28;01mTrue\u001b[39;00m, allow_2d\u001b[38;5;241m=\u001b[39m\u001b[38;5;28;01mTrue\u001b[39;00m)\n",
      "File \u001b[1;32m~\\anaconda3\\Lib\\site-packages\\pandas\\core\\common.py:576\u001b[0m, in \u001b[0;36mrequire_length_match\u001b[1;34m(data, index)\u001b[0m\n\u001b[0;32m    572\u001b[0m \u001b[38;5;250m\u001b[39m\u001b[38;5;124;03m\"\"\"\u001b[39;00m\n\u001b[0;32m    573\u001b[0m \u001b[38;5;124;03mCheck the length of data matches the length of the index.\u001b[39;00m\n\u001b[0;32m    574\u001b[0m \u001b[38;5;124;03m\"\"\"\u001b[39;00m\n\u001b[0;32m    575\u001b[0m \u001b[38;5;28;01mif\u001b[39;00m \u001b[38;5;28mlen\u001b[39m(data) \u001b[38;5;241m!=\u001b[39m \u001b[38;5;28mlen\u001b[39m(index):\n\u001b[1;32m--> 576\u001b[0m     \u001b[38;5;28;01mraise\u001b[39;00m \u001b[38;5;167;01mValueError\u001b[39;00m(\n\u001b[0;32m    577\u001b[0m         \u001b[38;5;124m\"\u001b[39m\u001b[38;5;124mLength of values \u001b[39m\u001b[38;5;124m\"\u001b[39m\n\u001b[0;32m    578\u001b[0m         \u001b[38;5;124mf\u001b[39m\u001b[38;5;124m\"\u001b[39m\u001b[38;5;124m(\u001b[39m\u001b[38;5;132;01m{\u001b[39;00m\u001b[38;5;28mlen\u001b[39m(data)\u001b[38;5;132;01m}\u001b[39;00m\u001b[38;5;124m) \u001b[39m\u001b[38;5;124m\"\u001b[39m\n\u001b[0;32m    579\u001b[0m         \u001b[38;5;124m\"\u001b[39m\u001b[38;5;124mdoes not match length of index \u001b[39m\u001b[38;5;124m\"\u001b[39m\n\u001b[0;32m    580\u001b[0m         \u001b[38;5;124mf\u001b[39m\u001b[38;5;124m\"\u001b[39m\u001b[38;5;124m(\u001b[39m\u001b[38;5;132;01m{\u001b[39;00m\u001b[38;5;28mlen\u001b[39m(index)\u001b[38;5;132;01m}\u001b[39;00m\u001b[38;5;124m)\u001b[39m\u001b[38;5;124m\"\u001b[39m\n\u001b[0;32m    581\u001b[0m     )\n",
      "\u001b[1;31mValueError\u001b[0m: Length of values (0) does not match length of index (24)"
     ]
    }
   ],
   "source": [
    "\n",
    "rates = df[\"Hotel Rates\"].str.split(\"\\n\")\n",
    "hotel_rate = []\n",
    "for rate in rates:\n",
    "    if len(rate)==2:\n",
    "        hotel_rate.append(rate[1])\n",
    "\n",
    "df[\"Hotel Rates\"] = hotel_rate\n",
    "\n",
    "# df = pd.DataFrame({\"Hotel Names\": hotel_names_list,\n",
    "#                        \"Hotel Rates\":hotel_rate, \n",
    "#                        \"Total Price\":ttl, \n",
    "#                        \"Original Price\":org_prc,\n",
    "#                         \"Discount Amount\": discounts})\n"
   ]
  },
  {
   "cell_type": "code",
   "execution_count": null,
   "id": "d507fb55",
   "metadata": {},
   "outputs": [],
   "source": [
    "df.to_csv('travel_agency.csv', index=False) #index false dedim çünkü csv file'ı okuyunca iki tane index sütunu çıkıyordu."
   ]
  },
  {
   "cell_type": "markdown",
   "id": "2238ee4e",
   "metadata": {},
   "source": [
    "# Clean Data"
   ]
  },
  {
   "cell_type": "code",
   "execution_count": null,
   "id": "d5df58cc",
   "metadata": {
    "scrolled": false
   },
   "outputs": [],
   "source": [
    "airbnb = pd.read_csv(\"travel_agency.csv\")\n",
    "prc = airbnb['Hotel Prices'].str.split('\\n')\n",
    "\n",
    "org_prc = []\n",
    "discounts = []\n",
    "per_nights = []\n",
    "\n",
    "for x in prc:\n",
    "    if len(x)==3:\n",
    "        org_prc.append(x[0])\n",
    "        discounts.append(x[1])\n",
    "\n",
    "    elif len(x)==2:\n",
    "        org_prc.append(x[0])\n",
    "        discounts.append(\"No discount!\")\n",
    "        \n",
    "airbnb[\"Original Price\"] = org_prc\n",
    "airbnb[\"Discount Amount\"] = discounts\n",
    "airbnb.drop([\"Hotel Prices\"], axis=1, inplace=True)\n",
    "\n",
    "ttl = airbnb['Total Price'].apply(lambda x: x[0:15])\n",
    "airbnb[\"Total Price\"]= ttl\n",
    "\n",
    "airbnb = pd.DataFrame({\"Hotel Names\": hotel_names_list,\n",
    "                       \"Hotel Rates\":hotel_rates_list, \n",
    "                       \"Total Price\":ttl, \n",
    "                       \"Original Price\":org_prc,\n",
    "                        \"Discount Amount\": discounts})\n",
    "airbnb"
   ]
  },
  {
   "cell_type": "code",
   "execution_count": null,
   "id": "7d30633f",
   "metadata": {},
   "outputs": [],
   "source": [
    "airbnb.to_csv('travel_agency.csv', index=False) #index false dedim çünkü csv file'ı okuyunca iki tane index sütunu çıkıyordu."
   ]
  },
  {
   "cell_type": "code",
   "execution_count": null,
   "id": "719f4630",
   "metadata": {},
   "outputs": [],
   "source": [
    "# Interface for User\n",
    "\n",
    "<img src=\"interface_airbnb.png\">\n"
   ]
  },
  {
   "cell_type": "markdown",
   "id": "52266160",
   "metadata": {},
   "source": [
    "<img src=\"email_output.png\">"
   ]
  },
  {
   "cell_type": "code",
   "execution_count": null,
   "id": "5c56f71c",
   "metadata": {},
   "outputs": [],
   "source": []
  },
  {
   "cell_type": "code",
   "execution_count": null,
   "id": "d93edaf1",
   "metadata": {},
   "outputs": [],
   "source": []
  }
 ],
 "metadata": {
  "kernelspec": {
   "display_name": "Python 3 (ipykernel)",
   "language": "python",
   "name": "python3"
  },
  "language_info": {
   "codemirror_mode": {
    "name": "ipython",
    "version": 3
   },
   "file_extension": ".py",
   "mimetype": "text/x-python",
   "name": "python",
   "nbconvert_exporter": "python",
   "pygments_lexer": "ipython3",
   "version": "3.11.5"
  }
 },
 "nbformat": 4,
 "nbformat_minor": 5
}
